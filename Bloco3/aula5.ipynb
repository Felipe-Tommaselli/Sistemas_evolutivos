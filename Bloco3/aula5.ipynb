{
 "cells": [
  {
   "cell_type": "markdown",
   "source": [
    "# BLOCO 3: Aula 5\n",
    "\n",
    "* link https://drive.google.com/file/d/1-ooVRlmOONFZhiUNCR6dh9enuDSUEzkY/view\n",
    "\n",
    "* link do quadro com resumão https://gitlab.com/simoesusp/disciplinas/-/blob/master/SSC0713-Sistemas-Evolutivos-Aplicados-a-Robotica/MaterialAulaDistancia/LousaImagens_PrimeiroSemestre2021/Evolutivos_ESTRATEGIAS_AG03.svg"
   ],
   "metadata": {}
  },
  {
   "cell_type": "markdown",
   "source": [
    "## Algoritmos evolutivos (resumo e aprofundamento)\n",
    "\n",
    "* Revisão: estabas dos alg evolutivos\n",
    "    1. Inicia populacao\n",
    "    2. Avaliação (normalmente a etapa mais lenta)\n",
    "    3. Seleção\n",
    "    4. Crossover\n",
    "    5. Mutação\n",
    "    6. Rearranjo da população\n",
    "\n",
    "> 1. Incia populacao \n",
    "\n",
    "- 100 geracoes e 10 individuos ou 10 geracoes e 100 individuos? DEPENDE\n",
    "    - A principio a ideia é utilizar o maior numero POSSIVEL de individuos, dessa forma a solução inicial ficaria espalhada pelo conjunto de possibilidades e causaria uma convergencia mais rapida, porem pelo baixo numero de geracoes ela seria grosseira\n",
    "    - Um alto numero de geracoes pode gerar uma solucao mais refinada e esperta, deve-se atentar aos viese (há a chance de todos os individuos nascerem perto de maximos locais e nao encontrar o max global)\n",
    "    - Dependendo da aplicação cada caso utilizira uma ideia, porem deve-se sempre optar pelo maior numero de individuos com o maior numero de geracoes possivel\n",
    "\n",
    "* principalmente na avaliacao, se aumentarmos um gene por exemplo NA HORAD E INICIALIZAR A POPULACAO, nós dobramos todo o trabalho que deve ser fetio considerando que a varaivel é um unsigned char (binario), se for um int ou um double, isso entra em valores absurdos (tomar cuidado com o custo algoritmo e com os tipos escolhidos nas variaveis)\n",
    "    * fazer a analise do espaco de busca: num de possibilidades = tipo dos genes^num de genes\n",
    "\n",
    "- bias in evolution x sem bia in evolution\n",
    "    * testar previamente para onde ta os valores e da uma analisada\n",
    "    * meu mano simoes é meio contra\n",
    "\n",
    "> 2. Avaliação\n",
    "\n",
    "- avaliacao na realidade é uam tarefa mto custosa e demorada, é importante parar o fitness quando a curva estabilizar (aquela curva que parece um log)\n",
    "\n",
    "* na pratica nao havera funcoes de modelagem boa como uma f(x)\n"
   ],
   "metadata": {}
  }
 ],
 "metadata": {
  "orig_nbformat": 4,
  "language_info": {
   "name": "python"
  }
 },
 "nbformat": 4,
 "nbformat_minor": 2
}