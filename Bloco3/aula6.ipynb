{
 "cells": [
  {
   "cell_type": "markdown",
   "source": [
    "# BLOCO 3: Aula 6\n",
    "\n",
    "* link https://drive.google.com/file/d/1Xf0J30Bj8yAWYjvh7oZ-nwebZ2Qwrv2G/view\n",
    "\n",
    "* link do quadro com resumão https://gitlab.com/simoesusp/disciplinas/-/blob/master/SSC0713-Sistemas-Evolutivos-Aplicados-a-Robotica/MaterialAulaDistancia/LousaImagens_PrimeiroSemestre2021/Evolutivos_ESTRATEGIAS_AG03.svg"
   ],
   "metadata": {}
  }
 ],
 "metadata": {
  "orig_nbformat": 4,
  "language_info": {
   "name": "python"
  }
 },
 "nbformat": 4,
 "nbformat_minor": 2
}