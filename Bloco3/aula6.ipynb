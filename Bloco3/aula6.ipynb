{
 "cells": [
  {
   "cell_type": "markdown",
   "source": [
    "# BLOCO 3: Aula 6\n",
    "\n",
    "* link https://drive.google.com/file/d/1Xf0J30Bj8yAWYjvh7oZ-nwebZ2Qwrv2G/view\n",
    "\n",
    "* link do quadro com resumão https://gitlab.com/simoesusp/disciplinas/-/blob/master/SSC0713-Sistemas-Evolutivos-Aplicados-a-Robotica/MaterialAulaDistancia/LousaImagens_PrimeiroSemestre2021/Evolutivos_ESTRATEGIAS_AG03.svg"
   ],
   "metadata": {}
  },
  {
   "cell_type": "markdown",
   "source": [
    "## Algoritmos evolutivos (resumo e aprofundamento)\n",
    "\n",
    "* Revisão: etapas dos alg evolutivos\n",
    "    1. Inicia populacao\n",
    "    2. Avaliação (normalmente a etapa mais lenta)\n",
    "    3. Seleção\n",
    "    4. Crossover\n",
    "    5. Mutação\n",
    "    6. Rearranjo da população\n",
    "\n",
    "> 3. Selecao\n",
    "\n",
    "* Bem arbritario e bem no freestyle, porem...\n",
    "    * NUNCA PERDER O MELHOR DE TODOS\n",
    "    * os melhores tem que ter maior chance de serem escolhidos\n",
    "\n",
    "- Metodos de selecao bons\n",
    "    - voce pode selecionar os melhores e clocar eles (assexuadamente) e com as mutacoes boa\n",
    "    - \"melhor cruza com todos\" (elitismo), preferido do simoes\n",
    "        - na vdd a ideia é selecionar os melhores e cruzar eles com O MELHOR\n",
    "    - torneio de 2 ( pai + mae => filho)\n",
    "        - pega 2 individuos, compara a nota: o maior é o PAI\n",
    "        - pega outros 2, compara a nota: o maior é a MAE\n",
    "        - cruza pai e mae: filho\n",
    "    - roleta (pai + mae => filho)\n",
    "\n",
    "* obs: Cuidado no torneio de 2 para nao sortear aleatoraimente e ou usar pouco ou nao usar o melhor de todos, o torneio de 2 ele é mais devagar mas ele mante, bem banacanamente a diversidade\n",
    "\n",
    "* obs: elitismo x torneio de 2\n",
    "    * o elitismo todo mundo vai convergir pra onde o melhor de todos esta, provavelemtne em um maximo local\n",
    "    * o torneio de 2 mantem varios grupinhos espalhados no maximos locais, ha chance de achar maximos locais melhores e ate o maximo global\n",
    "\n",
    "> 4. Crossover\n",
    "\n",
    "- obs: dependendo da sua mutacao, é importante utilziar reproducoes sexuadas para manter a variabilidade "
   ],
   "metadata": {}
  }
 ],
 "metadata": {
  "orig_nbformat": 4,
  "language_info": {
   "name": "python",
   "version": "3.8.10"
  },
  "kernelspec": {
   "name": "python3",
   "display_name": "Python 3.8.10 64-bit"
  },
  "interpreter": {
   "hash": "916dbcbb3f70747c44a77c7bcd40155683ae19c65e1c03b4aa3499c5328201f1"
  }
 },
 "nbformat": 4,
 "nbformat_minor": 2
}