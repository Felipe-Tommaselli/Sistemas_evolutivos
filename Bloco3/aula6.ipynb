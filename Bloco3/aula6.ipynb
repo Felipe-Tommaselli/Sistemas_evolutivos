{
 "cells": [
  {
   "cell_type": "markdown",
   "metadata": {},
   "source": [
    "# BLOCO 3: Aula 6\n",
    "\n",
    "* link https://drive.google.com/file/d/1Xf0J30Bj8yAWYjvh7oZ-nwebZ2Qwrv2G/view\n",
    "\n",
    "* link do quadro com resumão https://gitlab.com/simoesusp/disciplinas/-/blob/master/SSC0713-Sistemas-Evolutivos-Aplicados-a-Robotica/MaterialAulaDistancia/LousaImagens_PrimeiroSemestre2021/Evolutivos_ESTRATEGIAS_AG03.svg"
   ]
  },
  {
   "cell_type": "markdown",
   "metadata": {},
   "source": [
    "## Algoritmos evolutivos (resumo e aprofundamento)\n",
    "\n",
    "* Revisão: etapas dos alg evolutivos\n",
    "    1. Inicia populacao\n",
    "    2. Avaliação (normalmente a etapa mais lenta)\n",
    "    3. Seleção\n",
    "    4. Crossover\n",
    "    5. Mutação\n",
    "    6. Rearranjo da população\n",
    "    "
   ]
  },
  {
   "cell_type": "markdown",
   "metadata": {},
   "source": [
    "\n",
    "> 3. Selecao\n",
    "\n",
    "* Bem arbritario e bem no freestyle, porem...\n",
    "    * NUNCA PERDER O MELHOR DE TODOS\n",
    "    * os melhores tem que ter maior chance de serem escolhidos\n",
    "\n",
    "- Metodos de selecao bons\n",
    "    - voce pode selecionar os melhores e clocar eles (assexuadamente) e com as mutacoes boa\n",
    "    - \"melhor cruza com todos\" (elitismo), preferido do simoes\n",
    "        - na vdd a ideia é selecionar os melhores e cruzar eles com O MELHOR\n",
    "    - torneio de 2 ( pai + mae => filho)\n",
    "        - pega 2 individuos, compara a nota: o maior é o PAI\n",
    "        - pega outros 2, compara a nota: o maior é a MAE\n",
    "        - cruza pai e mae: filho\n",
    "    - roleta (pai + mae => filho)\n",
    "        - faz uma roleta com os indivuos, os com maior nota tem um espaco maior na roleta\n",
    "        - sorteia o pai, sorteia a mae e cruza\n",
    "        - ele é mais elitista que o torneio de 2, um meio termo \n",
    "\n",
    "* obs: Cuidado no torneio de 2 para nao sortear aleatoraimente e ou usar pouco ou nao usar o melhor de todos, o torneio de 2 ele é mais devagar mas ele mante, bem banacanamente a diversidade\n",
    "\n",
    "- obs: elitismo x torneio de 2\n",
    "    - o elitismo todo mundo vai convergir pra onde o melhor de todos esta, provavelemtne em um maximo local\n",
    "    - o torneio de 2 mantem varios grupinhos espalhados no maximos locais, ha chance de achar maximos locais melhores e ate o maximo global\n",
    "\n",
    "* obs: simoes odeia a roleta, ele nao curte pq fala que é pesado e nao vale a pena ficar no meio termo\n",
    "\n",
    "- obs: da pra fazer um torneio de 3, 4... n\n",
    "    - no caso vc torneia 3 indiividuos pra achar o pai e a mae, quanto maior n, mais elitista seu torneio de n\n",
    "\n",
    "* podems misturar e mudar os metodos, so precisamos respeitar as duas regras do comeco\n"
   ]
  },
  {
   "cell_type": "markdown",
   "metadata": {},
   "source": [
    "\n",
    "> 4. Crossover\n",
    "\n",
    "* NAO PRECISA FAZER CROSSOVER\n",
    "    * seria nesse caso uma reproducao assexuada, so fazer ua boa selecao e ter uma mutacoa bem ajustada\n",
    "\n",
    "- Crossover: dividir o cromossomo em n partes e misturar o do pai com o da mae\n",
    "    - para escolher entre valores simbolicos, nos sorteamos (tipo AGTC)\n",
    "    - para valors, tiramos a media ou fazemos pelo delta\n",
    "    - é provado que o delta é melhor, mano ve na aula q é meio confuso (1h:19min), simoes acha meio ??\n",
    "\n",
    "- obs: dependendo da sua mutacao, é importante utilziar reproducoes sexuadas para manter a variabilidade\n"
   ]
  },
  {
   "cell_type": "markdown",
   "metadata": {},
   "source": [
    "\n",
    "> 5. Mutacao\n",
    "\n",
    "* nao confundir:\n",
    "    * taxa de mutacao é quantos individuos vao muta: FALSO\n",
    "        * todos devem mutar, senao vai ficar mei merda\n",
    "    * taxa de mutacao é quantoa genes (caract) do cromossomo (indivudo) vão mudar: FALSO\n",
    "        * **pelo menos um!** na duvida vai de safe e so muda um\n",
    "    * taxa de mutacao é quanto eu vou mdificar o gene escolhido: A BOA\n",
    "        * mira em 2% DO EIXO DO X, nao do x senao vc vai ficar travado\n",
    "        * se for simbolico, vc so sortea outro simbolo (ex: C, trocamos por A,G ou T)\n",
    "        * a boa boa mesmo é taxa de mutacao variavel\n",
    "\n",
    "* nao mutar o melhor de todos plmds\n"
   ]
  }
 ],
 "metadata": {
  "interpreter": {
   "hash": "916dbcbb3f70747c44a77c7bcd40155683ae19c65e1c03b4aa3499c5328201f1"
  },
  "kernelspec": {
   "display_name": "Python 3.8.10 64-bit",
   "name": "python3"
  },
  "language_info": {
   "name": "python",
   "version": "3.8.10"
  },
  "orig_nbformat": 4
 },
 "nbformat": 4,
 "nbformat_minor": 2
}
