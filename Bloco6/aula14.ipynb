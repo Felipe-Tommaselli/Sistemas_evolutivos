{
 "cells": [
  {
   "cell_type": "markdown",
   "metadata": {},
   "source": [
    "# BLOCO 6: Aula 14\n",
    "\n",
    "* link https://drive.google.com/file/d/1IydWtxJlGuDXQ3URtGgXkPKWrgr-xe1e/view\n",
    "\n",
    "- link do quadro com resumão https://gitlab.com/simoesusp/disciplinas/-/blob/master/SSC0713-Sistemas-Evolutivos-Aplicados-a-Robotica/MaterialAulaDistancia/LousaImagens_PrimeiroSemestre2021/Evolutivos_ESTRATEGIAS_AG03.svg"
   ]
  },
  {
   "cell_type": "markdown",
   "metadata": {},
   "source": [
    "> discussões inciais\n",
    "\n",
    "* mostrou a tese de doutorado dele (simões) sobre robótica evolutiva\n",
    "    * falou sobre robos circulares para eles não travassem em cantos\n",
    "    * obstaculos não podem ser feitos de aluminio, reflete o infravermelho dos snesores\n",
    "\n",
    "- mostrou a rede neural do doutorado dele, era uma rede meio difrente\n",
    "\n",
    "* gráfico de fitness top demais em papo reto!\n",
    "\n",
    "- discutiu o problema do ruido no fitness (comum na robótica em aplicação prática)"
   ]
  },
  {
   "cell_type": "markdown",
   "metadata": {},
   "source": [
    "## Ruído no fitness\n",
    "\n",
    "* principalmente na prática, podemos avaliar o mesmo individuo (vide o melhor de todos que se mantem constante de uma geração com a outra) duas vezes e ele obter notas diferentes\n",
    "    * chamamos isso de **ruido na avaliação**\n",
    "\n",
    "- podemos mitigar esse problema com um filtro no fitness\n",
    "    - exemplo: fazer 10 leituras, jogar a melhor e a pior fora e fazer a media das outras 8 \n",
    "    - cuidado por que as vezes nao é viavel fazer tantas avaliações\n",
    "\n",
    "* quanto mais ELITISTA for teu sistema, mais sensível ao RUÍDO\n",
    "    * tomar muito cuidado com experimentos físicos principalmente\n",
    "\n",
    "- o ruído NÃO impede a evolução do sistema, ele dificulta a convergência e a estabilização"
   ]
  }
 ],
 "metadata": {
  "language_info": {
   "name": "python"
  },
  "orig_nbformat": 4
 },
 "nbformat": 4,
 "nbformat_minor": 2
}
