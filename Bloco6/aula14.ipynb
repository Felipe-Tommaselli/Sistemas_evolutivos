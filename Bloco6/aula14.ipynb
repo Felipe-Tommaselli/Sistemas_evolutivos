{
 "cells": [
  {
   "cell_type": "markdown",
   "metadata": {},
   "source": [
    "# BLOCO 6: Aula 14\n",
    "\n",
    "* link https://drive.google.com/file/d/1IydWtxJlGuDXQ3URtGgXkPKWrgr-xe1e/view\n",
    "\n",
    "- link do quadro com resumão https://gitlab.com/simoesusp/disciplinas/-/blob/master/SSC0713-Sistemas-Evolutivos-Aplicados-a-Robotica/MaterialAulaDistancia/LousaImagens_PrimeiroSemestre2021/Evolutivos_ESTRATEGIAS_AG03.svg"
   ]
  },
  {
   "cell_type": "markdown",
   "metadata": {},
   "source": [
    "> discussões inciais\n",
    "\n",
    "* mostrou a tese de doutorado dele sobre robótica evolutiva\n",
    "    * falou sobre robos circulares para eles não travassem em cantos\n",
    "    * obstaculos não podem ser feitos de aluminio, reflete o infravermelho dos snesores"
   ]
  }
 ],
 "metadata": {
  "language_info": {
   "name": "python"
  },
  "orig_nbformat": 4
 },
 "nbformat": 4,
 "nbformat_minor": 2
}
