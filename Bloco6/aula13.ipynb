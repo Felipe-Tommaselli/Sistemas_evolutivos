{
 "cells": [
  {
   "cell_type": "markdown",
   "metadata": {},
   "source": [
    "# BLOCO 6: Aula 13\n",
    "\n",
    "* link https://drive.google.com/file/d/1w8muGkS9XSUk5HtgEW8dZaGQhkn4OuFU/view\n",
    "\n",
    "- link do quadro com resumão https://gitlab.com/simoesusp/disciplinas/-/blob/master/SSC0713-Sistemas-Evolutivos-Aplicados-a-Robotica/MaterialAulaDistancia/LousaImagens_PrimeiroSemestre2021/Evolutivos_ESTRATEGIAS_AG03.svg\n",
    "\n",
    "* NVIDIA’s physics simulation environment for reinforcement learning research - https://developer.nvidia.com/isaac-gym\n",
    "\n",
    "- Atta: a robot simulator for 2D and 3D applications (Breno) - https://github.com/brenocq/atta"
   ]
  },
  {
   "cell_type": "markdown",
   "metadata": {},
   "source": [
    "## Algoritmos evolutivos (resumo)\n",
    "\n",
    "* Revisão: etapas dos alg evolutivos\n",
    "    1. Inicia populacao\n",
    "    2. Avaliação (normalmente a etapa mais lenta)\n",
    "    3. Seleção\n",
    "    4. Crossover\n",
    "    5. Mutação\n",
    "    6. Rearranjo da população"
   ]
  },
  {
   "cell_type": "markdown",
   "metadata": {},
   "source": [
    "> discussões inicias\n",
    "\n",
    "* mostrando um trabalho dele sobre um sistema robótico\n",
    "* mostrou um artigo bem completinho evolutivo para esse sistema robótico\n",
    "    * MUITO pika ta"
   ]
  },
  {
   "cell_type": "markdown",
   "metadata": {},
   "source": [
    "> Ferramenta da NVidia\n",
    "\n",
    "* NVIDIA’s physics simulation environment for reinforcement learning research - https://developer.nvidia.com/isaac-gym\n",
    "\n",
    "- muito massa isso papo reto, ta no piquezinho isso \n",
    "    - PRECISA DE UMA RTX, OU SEJA, NÃO SERÁ POSSÍVEL RODAR ISSO"
   ]
  },
  {
   "cell_type": "markdown",
   "metadata": {},
   "source": [
    "> Jogos e RPG\n",
    "\n",
    "* mostrou um ag para RPG e como eles vão evoluindo e como funciona isso no jogo\n",
    "\n",
    "- ressaltou a importancia de uma memória genética nos indivíduos para estar prevenido quando eventos ciclicos acontecem "
   ]
  }
 ],
 "metadata": {
  "language_info": {
   "name": "python"
  },
  "orig_nbformat": 4
 },
 "nbformat": 4,
 "nbformat_minor": 2
}
