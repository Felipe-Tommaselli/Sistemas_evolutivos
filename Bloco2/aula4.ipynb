{
 "cells": [
  {
   "cell_type": "markdown",
   "source": [
    "# BLOCO 2: Aula 4\n",
    "\n",
    "* link https://drive.google.com/file/d/1tpfDFrb5jM8fA0mTg3eJcncDAH0btiUf/view?usp=sharing"
   ],
   "metadata": {}
  },
  {
   "cell_type": "markdown",
   "source": [
    "## Computacao inspirada na natureza: inteligencia artificial x adaptatividade \n",
    "\n",
    "* Inteligencia artifical nao tem a ver com o que o algoritmo faz, mas sim como ele se adapta com o novo\n",
    "    * Termo correto na verdade eh- **inteligencia computacional**\n",
    "\n",
    "* Dentro da IA temos ainda- Redes neurais, Logica fuzzy ...\n",
    "\n",
    "* Algoritmo evolutivo != Algoritmo genetico\n",
    "    * AG nao tem mutacao variavel e eh mais especifico\n",
    "    * ou seja, chama tudo de Alg Evolutivo (AE) mesmo e boa\n",
    "\n",
    "* Inteligencia de exames pelo jeito eh bem louco e o simoes curte mto"
   ],
   "metadata": {}
  },
  {
   "cell_type": "markdown",
   "source": [
    "### Controle evolutivos- Objetivos\n",
    "\n",
    "* Projeto automatico, \"eliminar\" o especialista\n",
    "\n",
    "* Motivacao eh reduzir erros de porjetos etc\n",
    "\n",
    "* Premissa mais importante\n",
    "    * Especificar *O QUE* eh desejado do robo\n",
    "    * Sem definir *COMO* ele deve fazer\n"
   ],
   "metadata": {}
  }
 ],
 "metadata": {
  "orig_nbformat": 4,
  "language_info": {
   "name": "python"
  }
 },
 "nbformat": 4,
 "nbformat_minor": 2
}