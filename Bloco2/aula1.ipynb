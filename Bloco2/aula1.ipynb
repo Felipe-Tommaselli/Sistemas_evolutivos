{
 "cells": [
  {
   "cell_type": "markdown",
   "source": [
    "# BLOCO 2\n",
    "\n",
    "* link https://drive.google.com/file/d/1tpfDFrb5jM8fA0mTg3eJcncDAH0btiUf/view?usp=sharing"
   ],
   "metadata": {}
  },
  {
   "cell_type": "markdown",
   "source": [
    "## Computacao inspirada na natureza- inteligencia artificial x adaptatividade \n",
    "\n",
    "* Inteligencia artifical nao tem a ver com o que o algoritmo faz, mas sim como ele se adapta com o novo\n",
    "    * Termo correto na verdade eh- **inteligencia computacional**\n",
    "\n",
    "* Dentro da IA temos ainda- Redes neurais, Logica fuzzy ...\n",
    "\n",
    "* Algoritmo evolutivo != Algoritmo genetico\n",
    "    * AG nao tem mutacao variavel e eh mais especifico\n",
    "    * ou seja, chama tudo de Alg Evolutivo (AE) mesmo e boa\n",
    "\n"
   ],
   "metadata": {}
  }
 ],
 "metadata": {
  "orig_nbformat": 4,
  "language_info": {
   "name": "python"
  }
 },
 "nbformat": 4,
 "nbformat_minor": 2
}