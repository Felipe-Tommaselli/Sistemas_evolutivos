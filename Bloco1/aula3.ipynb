{
 "cells": [
  {
   "cell_type": "markdown",
   "metadata": {},
   "source": [
    "# Primeiro Bloco de teoria- Sistemas Evolutivos Aplicados a Robotica (SC0713)\n",
    "\n",
    "* gitlab: https://gitlab.com/simoesusp/disciplinas/-/tree/master/SSC0713-Sistemas-Evolutivos-Aplicados-a-Robotica\n",
    "\n",
    "* Gravação: https://drive.google.com/file/d/1uQqhGOfT46z6nad3q2lEvz49gr2bH9e1/view"
   ]
  },
  {
   "cell_type": "markdown",
   "metadata": {},
   "source": [
    "> Aula meio aleatoria, porém continuamos a anotar os pontos principais\n",
    "\n",
    "* Ao contrário da aula 2 onde o professor propos utilziar uma taxa de mutação que aumenta quando o sistema estabiliza, ele propos o exemplo de um braço robótico articulado que quer que sua ponta encoste em um ponto especifico. Nele seria interessante DIMINUIR a taxa de mutação quando o sistema começasse a estabilizar, pois dessa forma poderiamos fazer o ajuste fino da ponto do braço ate chegar exatamente no ponto\n",
    "\n",
    "* Pareto: AG multiobjetivo (objetivassao conflitante)\n",
    "    * Exemplo do braco robotico com um obstaculo no meio, objetivo1: Chegar no melhor possivel no ponto, objetivo2: Desviar o maximo possivel do obstaculo\n",
    "\n",
    "* Fit = Fitness maximo que o AG1 chega depois de N gerações\n",
    "\n",
    "* Se vc criar um AG2 (algoritmo genético) bom que otimize e melhore o seu AG1 que realmente está ligado com a aplicação principal, voce vai gastar um tempinho bom mas será mto mais facil fazer mudanca nas taxas de otimizacao do seu agortimo e **AGs configuram/tunam AGs melhor que humanos**. O bonus é que caso a aplicaçao mude drasticamente, o AG2 terá poucas alterações."
   ]
  }
 ],
 "metadata": {
  "language_info": {
   "name": "python"
  },
  "orig_nbformat": 4
 },
 "nbformat": 4,
 "nbformat_minor": 2
}
