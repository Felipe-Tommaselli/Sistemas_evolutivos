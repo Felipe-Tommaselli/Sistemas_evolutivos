{
 "cells": [
  {
   "cell_type": "markdown",
   "metadata": {},
   "source": [
    "# Primeiro Bloco de teoria- Sistemas Evolutivos Aplicados a Robotica (SC0713)\n",
    "\n",
    "* gitlab: https://gitlab.com/simoesusp/disciplinas/-/tree/master/SSC0713-Sistemas-Evolutivos-Aplicados-a-Robotica\n",
    "\n",
    "* Gravação: https://drive.google.com/file/d/1Fs3FRpP9Lc7Xapo_hsEGUy2lUowoZhnA/view?usp=sharing"
   ]
  },
  {
   "cell_type": "markdown",
   "metadata": {},
   "source": [
    "> Foi aula particular pro Lucas Alves, mas tinha algumas informações interessantes. Entre elas: \n",
    "\n",
    "* Utilizar uma taxa de mutação variável\n",
    "\n",
    "* Não utilizar a taxa de mutação como proporcao do valor do individuo\n",
    "\n",
    "* Em um problema de procurar o max global de uma funcao toda torta, o algoritmo vai apidamente achar um maxmimo local e estabilizar. As mutações ao longo do tempo vao jogando individuos para longe até que alguma desça o vale e suba ate outro maximo local maior, ou até o max global (por isso taxas de mutaçoes pequenas podem inviabilizar esse processo e demorar mto tempo). Nesse exemplo uma taxa de mutação que ao ver o sistema estabilizar AUMENTASSE seria muito util para achar possiveis maximos maiores mais rapido "
   ]
  }
 ],
 "metadata": {
  "language_info": {
   "name": "python"
  },
  "orig_nbformat": 4
 },
 "nbformat": 4,
 "nbformat_minor": 2
}
