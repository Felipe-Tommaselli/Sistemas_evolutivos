{
 "cells": [
  {
   "cell_type": "markdown",
   "metadata": {},
   "source": [
    "# Primeiro Bloco de teoria- Sistemas Evolutivos Aplicados a Robotica (SC0713)\n",
    "\n",
    "* gitlab: https://gitlab.com/simoesusp/disciplinas/-/tree/master/SSC0713-Sistemas-Evolutivos-Aplicados-a-Robotica\n",
    "\n",
    "* Gravação: https://drive.google.com/file/d/1z0wHTwafRw7nwQTY3KkOe3I3OxQAmEqq/view\n"
   ]
  },
  {
   "cell_type": "markdown",
   "metadata": {},
   "source": [
    "### Procedimento de criação de um algoritmo evolutivo\n",
    "\n",
    "1. Inicializar uma população\n",
    "\n",
    "2. Avaliação (mais adaptado => maior nota (fitness))\n",
    "\n",
    "3. Seleção (maior nota => maior probabilidade de ser selecinado)\n",
    "\n",
    "4. Crossover\n",
    "\n",
    "5. Mutação\n",
    "\n",
    "6. Rearranjo da população"
   ]
  },
  {
   "cell_type": "markdown",
   "metadata": {},
   "source": [
    "> Exemplo\n",
    "\n",
    "1. Iniciar uma população com 10 individuos, associando cada individuo com um \"cromossomo\" (conjunto de parametros organizados em um vetor)\n",
    "    * digmaos que queremos fazer café, para isso nosso vetor de parametros sera\n",
    "    * Cafe => (Agua, Cafe, Acucar, leite), cada individuo da populacao tera uma certta quantidade de cada elemento:\n",
    "i0 = (10, 3, 5, 10)\n",
    "...\n",
    "i9 = (8, 2, 6, 88)\n",
    "\n",
    "2. Dar uma nota para cada individuo, sem segredo\n",
    "\n",
    "3. O método que o simões mais gosta: Elitismo (melhor cruza com todos)\n",
    "    * **NUNCA MATAR O MELHOR DE TODOS**\n",
    "\n",
    "4. Cruzar (normalmente é só a media, porem há varios metodos)\n",
    "(10, 3, 5, 10)\n",
    "    x\n",
    "(8, 2, 6, 88)\n",
    "= (9, 2.5, 6.5, 49)\n",
    "\n",
    "5. Mutacao: Sorteia alguns genes e soma (ou subtrai) uma TAXA DE MUTAÇÃO\n",
    "\n",
    "6. Mata alguns individuos e substitui pelos filhos gerados\n"
   ]
  }
 ],
 "metadata": {
  "language_info": {
   "name": "python"
  },
  "orig_nbformat": 4
 },
 "nbformat": 4,
 "nbformat_minor": 2
}
