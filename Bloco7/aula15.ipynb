{
 "cells": [
  {
   "cell_type": "markdown",
   "metadata": {},
   "source": [
    "# BLOCO 7: Aula 15\n",
    "\n",
    "* link https://drive.google.com/file/d/1IydWtxJlGuDXQ3URtGgXkPKWrgr-xe1e/view\n",
    "\n",
    "- link do quadro com resumão https://gitlab.com/simoesusp/disciplinas/-/blob/master/SSC0713-Sistemas-Evolutivos-Aplicados-a-Robotica/MaterialAulaDistancia/LousaImagens_PrimeiroSemestre2021/Evolutivos_ESTRATEGIAS_AG03.svg"
   ]
  },
  {
   "cell_type": "markdown",
   "metadata": {},
   "source": [
    "> discussões iniciais\n",
    "\n",
    "* continua falando da tese de doutorado dele\n",
    "\n",
    "- utilização do conceito de **Black Box**\n",
    "    - no caso ele rodava todas as possíveis entradas dos sensores, treinava na rede neural e aí utilizava uma memória pequena para \"tabelar\" as saídas pra cada entrada que a rede neural deu\n",
    "\n",
    "* explicou um pouco ainda sobre operações com tipos de dados e essa parte mais baixo nível para trabalhar com a memória\n",
    "    * técnicas de otimização em baixo nivel"
   ]
  },
  {
   "cell_type": "markdown",
   "metadata": {},
   "source": [
    "- ELE CAIU DA AULA POR UNS 40 MIN\n",
    "\n",
    "* depois que voltou ficou só de resenha mesmo"
   ]
  }
 ],
 "metadata": {
  "language_info": {
   "name": "python"
  },
  "orig_nbformat": 4
 },
 "nbformat": 4,
 "nbformat_minor": 2
}
