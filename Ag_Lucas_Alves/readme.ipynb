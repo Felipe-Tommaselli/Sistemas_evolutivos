{
 "cells": [
  {
   "cell_type": "markdown",
   "metadata": {},
   "source": [
    "# AG do Lucas Alves Roris\n",
    "\n",
    "* link do github: https://github.com/LucasRorisCube/SistemasEvolutivos/tree/main/AGFuncaoOpenGL"
   ]
  }
 ],
 "metadata": {
  "language_info": {
   "name": "python"
  },
  "orig_nbformat": 4
 },
 "nbformat": 4,
 "nbformat_minor": 2
}
