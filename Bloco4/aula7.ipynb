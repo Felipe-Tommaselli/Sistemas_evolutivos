{
 "cells": [
  {
   "cell_type": "markdown",
   "metadata": {},
   "source": [
    "# BLOCO 3: Aula 6\n",
    "\n",
    "* link https://drive.google.com/file/d/1Xf0J30Bj8yAWYjvh7oZ-nwebZ2Qwrv2G/view\n",
    "\n",
    "* link do quadro com resumão https://gitlab.com/simoesusp/disciplinas/-/blob/master/SSC0713-Sistemas-Evolutivos-Aplicados-a-Robotica/MaterialAulaDistancia/LousaImagens_PrimeiroSemestre2021/Evolutivos_ESTRATEGIAS_AG03.svg"
   ]
  },
  {
   "cell_type": "markdown",
   "metadata": {},
   "source": [
    "## Algoritmos evolutivos (resumo e aprofundamento)\n",
    "\n",
    "* Revisão: etapas dos alg evolutivos\n",
    "    1. Inicia populacao\n",
    "    2. Avaliação (normalmente a etapa mais lenta)\n",
    "    3. Seleção\n",
    "    4. Crossover\n",
    "    5. Mutação\n",
    "    6. Rearranjo da população"
   ]
  },
  {
   "cell_type": "markdown",
   "metadata": {},
   "source": [
    "> lucas roris deu uma alugada novamente na aula, mas deu pra pegar algumas coisas:\n",
    "\n",
    "* no torneio de 2, é bom tomar cuidado e criar uma copia da população temporaria para fazer os torneios, senao vc pode acabar sorteando o proprio filho\n",
    "    * dependendo da aplicação pode valer a pena nem fazer essa copia e mandar bala direto\n",
    "    * isso vale para a roleta tbm\n",
    "\n",
    "* ele deu alguns insights sobre otimização, algo sobre ser melhor alocar a memoria no coemco do codigo para um vetor/matriz e so desalocar no fim, nao ficar desalocando e alocando a cada ciclo do while, pois essa operacao de alocaça~oe desalocação pode ser mais custosa\n",
    "    * o mesmo para um file, nesse caso ele deu o exemplo de a cada algumas gerações dar um flush das alteracoes feita nos file da ram pro disco, para nao correr o risco de cair energia no meio e perder tudo\n",
    "\n",
    "* tomar cuidado com \"efeitos colaterais\" no codigo, exemplo: Voce cria uma condicao que vc so substitui o individuo depois do torneio de 2 se for melhor que o anterior que o anterior. Fazer essa manobra pode impedir que a sua populacao convirja (mais rapido) para um max local e nao busque o global"
   ]
  }
 ],
 "metadata": {
  "language_info": {
   "name": "python"
  },
  "orig_nbformat": 4
 },
 "nbformat": 4,
 "nbformat_minor": 2
}
