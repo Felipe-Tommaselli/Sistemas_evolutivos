{
 "cells": [
  {
   "cell_type": "markdown",
   "metadata": {},
   "source": [
    "# BLOCO 4: Aula 7\n",
    "\n",
    "* link https://drive.google.com/file/d/1Xf0J30Bj8yAWYjvh7oZ-nwebZ2Qwrv2G/view\n",
    "\n",
    "* link do quadro com resumão https://gitlab.com/simoesusp/disciplinas/-/blob/master/SSC0713-Sistemas-Evolutivos-Aplicados-a-Robotica/MaterialAulaDistancia/LousaImagens_PrimeiroSemestre2021/Evolutivos_ESTRATEGIAS_AG03.svg"
   ]
  },
  {
   "cell_type": "markdown",
   "metadata": {},
   "source": [
    "## Algoritmos evolutivos (resumo)\n",
    "\n",
    "* Revisão: etapas dos alg evolutivos\n",
    "    1. Inicia populacao\n",
    "    2. Avaliação (normalmente a etapa mais lenta)\n",
    "    3. Seleção\n",
    "    4. Crossover\n",
    "    5. Mutação\n",
    "    6. Rearranjo da população"
   ]
  },
  {
   "cell_type": "markdown",
   "metadata": {},
   "source": [
    "> lucas roris deu uma alugada novamente na aula, mas deu pra pegar algumas coisas:\n",
    "\n",
    "- no torneio de 2, é bom tomar cuidado e criar uma copia da população temporaria para fazer os torneios, senao vc pode acabar sorteando o proprio filho\n",
    "    - dependendo da aplicação pode valer a pena nem fazer essa copia e mandar bala direto\n",
    "    - isso vale para a roleta tbm\n",
    "\n",
    "* ele deu alguns insights sobre otimização, algo sobre ser melhor alocar a memoria no coemco do codigo para um vetor/matriz e so desalocar no fim, nao ficar desalocando e alocando a cada ciclo do while, pois essa operacao de alocaça~oe desalocação pode ser mais custosa\n",
    "    * o mesmo para um file, nesse caso ele deu o exemplo de a cada algumas gerações dar um flush das alteracoes feita nos file da ram pro disco, para nao correr o risco de cair energia no meio e perder tudo\n",
    "\n",
    "- tomar cuidado com \"efeitos colaterais\" no codigo, exemplo: Voce cria uma condicao que vc so substitui o individuo depois do torneio de 2 se for melhor que o anterior que o anterior. Fazer essa manobra pode impedir que a sua populacao convirja (mais rapido) para um max local e nao busque o global"
   ]
  },
  {
   "cell_type": "markdown",
   "metadata": {},
   "source": [
    "## Predação\n",
    "\n",
    "- eliminar alguns individuos (mais fracos normalmente) e substituir por melhores -> aumenta diversidade de forma controlada por nós\n",
    "\n",
    "* o simoes propos uma predacao do tipo de: eliminar o pior de todos e trocar por um individuo aleatorio (pedracao randomica)\n",
    "    * dessa forma, podemos abusar mais do elitismo, pois a predacao adiciona artificialmente diversidade para o sistema\n",
    "\n",
    "- se nós utilizarmos uma mutacao variavel, caso a mutacao atinja um valor muito alto, podemos fazer um genocidio e recomecar o processo dnv sem o bias anterior"
   ]
  },
  {
   "cell_type": "code",
   "execution_count": null,
   "metadata": {},
   "outputs": [],
   "source": [
    "'''\n",
    "void aumentarMutacao(float BestInd[], float TaxMut){\n",
    "    // mutacao variável\n",
    "    if(bestInd[4] - bestInd[0] < 0.00001)\n",
    "        TaxMut = TaxMut*(1.2);\n",
    "    else\n",
    "        TaxMut = 2;\n",
    "\n",
    "    if(TaxMut > 100){\n",
    "        genocidio();\n",
    "        TaxMut = 2;\n",
    "    }\n",
    "}\n",
    "'''"
   ]
  },
  {
   "cell_type": "markdown",
   "metadata": {},
   "source": [
    "> Pedracao randomica\n",
    "\n",
    "* aquela ideia de a cada algumas gerar trocar o pior de todos por um aleatorio\n",
    "\n",
    "- é importante manter um numero tipo de 10 geracoes, para o novo individuo poder ser incorporado na populacao\n",
    "\n",
    "* quando a populacao ja estiver convergindo, essa tecnica diminuira a media, pois possivelmente o pior de todos vai ser emlhor ainda que o randomico novo, para isso deve-se esperar (talvez mais ainda que 10 geracoes) para que a mutacao e os cruzamentos deem uma estabilidade na populacao.\n",
    "    * se vc nao esperar essas geracoes ai, o pior de todos sempre vai ser esse individuo novo e ele sempre vai ser removido, ai nao tem sentido nenhum fazer isso e principalmente nao vai aumentar a diversidade da pop"
   ]
  }
 ],
 "metadata": {
  "interpreter": {
   "hash": "916dbcbb3f70747c44a77c7bcd40155683ae19c65e1c03b4aa3499c5328201f1"
  },
  "kernelspec": {
   "display_name": "Python 3.8.10 64-bit",
   "name": "python3"
  },
  "language_info": {
   "name": "python",
   "version": "3.8.10"
  },
  "orig_nbformat": 4
 },
 "nbformat": 4,
 "nbformat_minor": 2
}
