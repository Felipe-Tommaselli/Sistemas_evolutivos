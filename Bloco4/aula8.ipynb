{
 "cells": [
  {
   "cell_type": "markdown",
   "metadata": {},
   "source": [
    "# BLOCO 4: Aula 8\n",
    "\n",
    "* link https://drive.google.com/file/d/1UQzIMW8NrJ-ZT8Y07D48_-ig5ITOXcdh/view?usp=sharing\n",
    "\n",
    "* link do quadro com resumão https://gitlab.com/simoesusp/disciplinas/-/blob/master/SSC0713-Sistemas-Evolutivos-Aplicados-a-Robotica/MaterialAulaDistancia/LousaImagens_PrimeiroSemestre2021/Evolutivos_ESTRATEGIAS_AG03.svg"
   ]
  },
  {
   "cell_type": "markdown",
   "metadata": {},
   "source": [
    "## Algoritmos evolutivos (resumo)\n",
    "\n",
    "* Revisão: etapas dos alg evolutivos\n",
    "    1. Inicia populacao\n",
    "    2. Avaliação (normalmente a etapa mais lenta)\n",
    "    3. Seleção\n",
    "    4. Crossover\n",
    "    5. Mutação\n",
    "    6. Rearranjo da população"
   ]
  },
  {
   "cell_type": "markdown",
   "metadata": {},
   "source": [
    "## Revisão e aprofundamento de predração randomica\n",
    "\n",
    "* Matar o pior de todos; trocar por um randomico; esperar umas 10 gerações para ele espalhar os genes aleatorios pra população; repetir\n",
    "\n",
    "- A diferneça do Fitness médio da população, para o fitness do melhor de todos é proporcional a taxa de mutação\n",
    "    - quanto menor a taxa de mutação, mais perto estará a populaõ do melhor de todos, e vice versa\n",
    "    \n",
    "* eventualmente com a predação randomica, o fitness medio pode ter uma variacao abrupta a cada 10 gerações; porém há a chance desse novo gene randomico vez ou outra acabar, junto com os genes do melhor de todos (elitismo) gerar um uma nova caracteristica que gere um fitness MELHOR que o melhor de todos (caso ideal), ai não só o mlehor de todos agora é melhor, quanto a média da população\n",
    "    * no pior dos casos nós apenas mantemos o constante esse processo e mantemos DIVERSIDADE no nosso sistema; mesmo que não aconteça o tal caso ideal nós mantemos essa possibiliade aberta\n",
    "\n",
    "* como nós preferimos no fim do processo quando já há uma convergencia maior, manter a mutação cada vez mais baixa (ajuste fino), a mutaçõ vai manter a diversdiade do sistema e possibilitar fugir do maximo local\n",
    "\n",
    "- **OBS**: Podemos mudar varialmente aquelas 10 gerações para predação a partir do fitness, porém de acordo com o simoes é matar formiga com canhão, as 10 gerações lá a maioria das vezes já funcionam com uma boa redundancia ainda"
   ]
  },
  {
   "cell_type": "markdown",
   "metadata": {},
   "source": [
    "> simoes passou alguns insights sobre mutação no meio da brincadeira\n",
    "\n",
    "* quando a mutação for do tipo tudo ou nada, tipo trocar um 0 para 1, ou trocar um gene A p/ G,T ou C, é mais garantido usar aquela cadeiazinha de mutação, tal que busquemos mutar apenas um gene por vez na maior parte do tmepo\n",
    "    * 50 - 30 - 15 - 03 (% de mutar o tanto de genes)\n",
    "    * 01 - 02 - 03 - 04 (tanto de genes p/ ser mutado)\n",
    "\n",
    "- o ideal é mutar só um gene de uma vez para não estragar a convergencia do sistema (mesmo com a diminuicao da taxa dem utação duratne a convergencia), porem é bacana haver a chance (pequena) do sistema mutar 2 ou mais genes de uma vez, assim podemos buscar uma solução inesperadamente boa com essa combinação\n"
   ]
  },
  {
   "cell_type": "markdown",
   "metadata": {},
   "source": [
    "## Predação por Síntese\n",
    "\n",
    "- Mesma ideia de matar o pior de todos de vez em quando, porém em vez de trocar o cara por um cara completamente aleatório, vamos bsucar um cromosso artificial que seja uma representação boa da populçaõ\n",
    "    - em uma população de 10 indiividuos com cada cromosso binario com 4 genes cada, nós pegamos por exemplo a moda do primeiro gene para os 10 individuos (digamos que foi 1), para o segundo gene (digamso que foi 0), terceiro (0), quarto (1); e ai juntamso isso em umnovo cromossomo artificial formado por: 1 0 0 1, sendo esse fruto da moda em cada gene\n",
    "    - para um float nós podemos pegar a média, caso seja simbólico podemos pegar a moda msm\n",
    "\n",
    "* Perdemos um pouco de diversdiade com essa predação, porém nós esperamos que quando houbver a convergencia nós selecionaremos os genes que mais se adaptarão para construir artificialmente um possível melhor de todos\n",
    "    * novamente, essa tecnica ACABA COM A DIVERSIDADE, porém podemos balancear ela com a randomica para manter a diversdiade ou com uma mutação estupidamente alta, uma ideia é fazer as duas predações intercaladas\n",
    "    * para uma mutacao alta a melhor escolha é usar uma sintese quando estivermso perto da convergencia\n",
    "    *  dependendo da aplicação a diversidade não é tao importante, com a predação por síntes nós buscaremos uma convergencia veloz e abrupta\n",
    "\n",
    "- ao contrário da pedração randomica, o adicionado não vai ser o pior de todos (provavlemetne ele vai ta na média pra cima), então podemos fazer a predação por sintese toda geração\n",
    "    - cuidado com população pequena, pois podemos \"desligar a evoução\", só com uma populaçõa sintética (nesse caso é melhora aumentar o período da predação por síntese)\n",
    "    - se a população for grande o bastante comparado com o numero de gerações esperado para convergencia, podemos implemtar a sintese a cada geração\n",
    "\n",
    "\n"
   ]
  },
  {
   "cell_type": "markdown",
   "metadata": {},
   "source": [
    "> simoes passou alguns insights muito massa sobre os projetos dele\n",
    "\n",
    "* ver a aula a partir de 1h: varios exemplos sobre possibilidades de AGs com cromossomos binários\n",
    "    * falou umas coisas bem massa sobre reconhecimento de digitos utiliando um AG para limpar os dados\n",
    "    * falou sobre tomada de decisão em robo com obstaculos usando uma tabela verdade\n",
    "\n",
    "- ele falou sobre a opção de rodar uma rede neural, generelizar seus inputs; aí sim passar uma tabela verdade;\n",
    "\n",
    "* na verdade ele passou um ngc mto foda, era a ideia de pegar os inputs, treinar uma rede neural; ai passar nessa rede pra cada combinação de entrada (no caso de um robo com 3 sensores bianrios seriam só 8) e montar uma tabela a partir do que a rede neural nos diisse, nesse momento vc pode pedir pro seu robo rodar ela com uma memoria de 2mb, por que ele ja tem uma rede neural rodando nele, porém em formato de tabela teoricamente \n",
    "    * isso funciona em diversos casos e de diversas maneiras\n",
    "\n",
    "* falou sobre 2 professores bons cde redes neurais: tiago e um outro la, e falou que tem uma prof que da isso que ele não gosta KKK mas nao falou o nome"
   ]
  }
 ],
 "metadata": {
  "language_info": {
   "name": "python"
  },
  "orig_nbformat": 4
 },
 "nbformat": 4,
 "nbformat_minor": 2
}
