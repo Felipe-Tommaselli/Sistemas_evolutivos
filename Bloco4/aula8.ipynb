{
 "cells": [
  {
   "cell_type": "markdown",
   "metadata": {},
   "source": [
    "# BLOCO 4: Aula 8\n",
    "\n",
    "* link https://drive.google.com/file/d/1UQzIMW8NrJ-ZT8Y07D48_-ig5ITOXcdh/view?usp=sharing\n",
    "\n",
    "* link do quadro com resumão https://gitlab.com/simoesusp/disciplinas/-/blob/master/SSC0713-Sistemas-Evolutivos-Aplicados-a-Robotica/MaterialAulaDistancia/LousaImagens_PrimeiroSemestre2021/Evolutivos_ESTRATEGIAS_AG03.svg"
   ]
  },
  {
   "cell_type": "markdown",
   "metadata": {},
   "source": [
    "## Algoritmos evolutivos (resumo)\n",
    "\n",
    "* Revisão: etapas dos alg evolutivos\n",
    "    1. Inicia populacao\n",
    "    2. Avaliação (normalmente a etapa mais lenta)\n",
    "    3. Seleção\n",
    "    4. Crossover\n",
    "    5. Mutação\n",
    "    6. Rearranjo da população"
   ]
  },
  {
   "cell_type": "markdown",
   "metadata": {},
   "source": [
    "> Revisão e aprofundamento de r=pedração randomica\n",
    "\n",
    "* Matar o pior de todos; trocar por um randomico; esperar umas 10 gerações para ele espalhar os genes aleatorios pra população; repetir\n",
    "\n",
    "- A diferneça do Fitness médio da população, para o fitness do melhor de todos é proporcional a taxa de mutação\n",
    "    - quanto menor a taxa de mutação, mais perto estará a populaõ do melhor de todos, e vice versa\n",
    "    \n",
    "* eventualmente com a predação randomica, o fitness medio pode ter uma variacao abrupta a cada 10 gerações; porém há a chance desse novo gene randomico vez ou outra acabar, junto com os genes do melhor de todos (elitismo) gerar um uma nova caracteristica que gere um fitness MELHOR que o melhor de todos (caso ideal), ai não só o mlehor de todos agora é melhor, quanto a média da população\n",
    "    * no pior dos casos nós apenas mantemos o constante esse processo e mantemos DIVERSIDADE no nosso sistema; mesmo que não aconteça o tal caso ideal nós mantemos essa possibiliade aberta\n",
    "\n",
    "* como nós preferimos no fim do processo quando já há uma convergencia maior, manter a mutação cada vez mais baixa (ajuste fino), a mutaçõ vai manter a diversdiade do sistema e possibilitar fugir do maximo local"
   ]
  }
 ],
 "metadata": {
  "language_info": {
   "name": "python"
  },
  "orig_nbformat": 4
 },
 "nbformat": 4,
 "nbformat_minor": 2
}
