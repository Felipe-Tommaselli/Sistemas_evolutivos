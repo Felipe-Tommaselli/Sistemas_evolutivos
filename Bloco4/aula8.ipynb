{
 "cells": [
  {
   "cell_type": "markdown",
   "metadata": {},
   "source": [
    "# BLOCO 4: Aula 8\n",
    "\n",
    "* link https://drive.google.com/file/d/1UQzIMW8NrJ-ZT8Y07D48_-ig5ITOXcdh/view?usp=sharing\n",
    "\n",
    "* link do quadro com resumão https://gitlab.com/simoesusp/disciplinas/-/blob/master/SSC0713-Sistemas-Evolutivos-Aplicados-a-Robotica/MaterialAulaDistancia/LousaImagens_PrimeiroSemestre2021/Evolutivos_ESTRATEGIAS_AG03.svg"
   ]
  }
 ],
 "metadata": {
  "language_info": {
   "name": "python"
  },
  "orig_nbformat": 4
 },
 "nbformat": 4,
 "nbformat_minor": 2
}
